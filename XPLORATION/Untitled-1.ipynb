{
 "cells": [
  {
   "cell_type": "code",
   "execution_count": null,
   "metadata": {
    "dotnet_interactive": {
     "language": "csharp"
    },
    "polyglot_notebook": {
     "kernelName": "csharp"
    }
   },
   "outputs": [],
   "source": [
    "#if INTERACTIVE\n",
    "\n",
    "#r \"nuget: Avalonia\"\n",
    "#r \"nuget: Avalonia.Desktop\"\n",
    "#r \"nuget: Avalonia.Themes.Simple\"\n",
    "\n",
    "#endif\n"
   ]
  },
  {
   "cell_type": "code",
   "execution_count": null,
   "metadata": {
    "dotnet_interactive": {
     "language": "csharp"
    },
    "polyglot_notebook": {
     "kernelName": "csharp"
    }
   },
   "outputs": [],
   "source": [
    "using Avalonia;\n",
    "using Avalonia.Controls;\n",
    "using Avalonia.Themes.Simple;\n"
   ]
  },
  {
   "cell_type": "code",
   "execution_count": null,
   "metadata": {
    "dotnet_interactive": {
     "language": "csharp"
    },
    "polyglot_notebook": {
     "kernelName": "csharp"
    }
   },
   "outputs": [],
   "source": [
    "Application app;\n",
    "\n",
    "if (Application.Current == null) \n",
    "{\n",
    "  app = AppBuilder.Configure<Application>()\n",
    "      .UsePlatformDetect()\n",
    "      //.SetupWithoutStarting()\n",
    "      //.Instance;  \n",
    "}\n",
    "else \n",
    "{\n",
    "  app = Application.Current;\n",
    "}    \n",
    "\n",
    "app.Styles.Add(new SimpleTheme() );\n"
   ]
  },
  {
   "cell_type": "code",
   "execution_count": null,
   "metadata": {
    "dotnet_interactive": {
     "language": "csharp"
    },
    "polyglot_notebook": {
     "kernelName": "csharp"
    }
   },
   "outputs": [],
   "source": [
    "app.Run(new Window() { Title = \"Avalonia Basic Example\", Content = \"Hello Avalonia!\" });\n"
   ]
  }
 ],
 "metadata": {
  "kernelspec": {
   "display_name": ".NET (C#)",
   "language": "C#",
   "name": ".net-csharp"
  },
  "language_info": {
   "name": "polyglot-notebook"
  },
  "polyglot_notebook": {
   "kernelInfo": {
    "defaultKernelName": "csharp",
    "items": [
     {
      "aliases": [],
      "languageName": "csharp",
      "name": "csharp"
     }
    ]
   }
  }
 },
 "nbformat": 4,
 "nbformat_minor": 2
}
