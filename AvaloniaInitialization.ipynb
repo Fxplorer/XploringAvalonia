{
 "cells": [
  {
   "cell_type": "markdown",
   "metadata": {},
   "source": [
    "Create a top level solution file"
   ]
  },
  {
   "cell_type": "code",
   "execution_count": null,
   "metadata": {
    "dotnet_interactive": {
     "language": "pwsh"
    },
    "polyglot_notebook": {
     "kernelName": "pwsh"
    }
   },
   "outputs": [],
   "source": [
    "dotnet new sln -n XploringAvalonia\n"
   ]
  },
  {
   "cell_type": "code",
   "execution_count": null,
   "metadata": {
    "dotnet_interactive": {
     "language": "pwsh"
    },
    "polyglot_notebook": {
     "kernelName": "pwsh"
    }
   },
   "outputs": [],
   "source": [
    "mkdir ./src\n"
   ]
  },
  {
   "cell_type": "code",
   "execution_count": 15,
   "metadata": {
    "dotnet_interactive": {
     "language": "pwsh"
    },
    "polyglot_notebook": {
     "kernelName": "pwsh"
    }
   },
   "outputs": [
    {
     "name": "stdout",
     "output_type": "stream",
     "text": [
      "The template \"Console App\" was created successfully.\n",
      "\n",
      "Processing post-creation actions...\n",
      "Restoring /home/linux/CODE/XploringAvalonia/src/CsharpMinimalAvaloniaAppWithAXAML/CsharpMinimalAvaloniaAppWithAXAML.csproj:\n",
      "  Determining projects to restore...\n",
      "  Restored /home/linux/CODE/XploringAvalonia/src/CsharpMinimalAvaloniaAppWithAXAML/CsharpMinimalAvaloniaAppWithAXAML.csproj (in 48 ms).\n",
      "Restore succeeded.\n",
      "\n",
      "\n"
     ]
    }
   ],
   "source": [
    "dotnet new console -lang \"C#\" -o ./src/CsharpMinimalAvaloniaAppWithAXAML\n"
   ]
  },
  {
   "cell_type": "code",
   "execution_count": 16,
   "metadata": {
    "dotnet_interactive": {
     "language": "pwsh"
    },
    "polyglot_notebook": {
     "kernelName": "pwsh"
    }
   },
   "outputs": [
    {
     "name": "stdout",
     "output_type": "stream",
     "text": [
      "Project `src/CsharpMinimalAvaloniaAppWithAXAML/CsharpMinimalAvaloniaAppWithAXAML.csproj` added to the solution.\n"
     ]
    }
   ],
   "source": [
    "dotnet sln XploringAvalonia.sln add src/CsharpMinimalAvaloniaAppWithAXAML/CsharpMinimalAvaloniaAppWithAXAML.csproj\n"
   ]
  },
  {
   "cell_type": "code",
   "execution_count": null,
   "metadata": {
    "dotnet_interactive": {
     "language": "pwsh"
    },
    "polyglot_notebook": {
     "kernelName": "pwsh"
    }
   },
   "outputs": [],
   "source": [
    "dotnet new console -lang \"F#\" -o ./src/MinimalAvaloniaAppFsharp\n"
   ]
  },
  {
   "cell_type": "code",
   "execution_count": null,
   "metadata": {
    "dotnet_interactive": {
     "language": "pwsh"
    },
    "polyglot_notebook": {
     "kernelName": "pwsh"
    }
   },
   "outputs": [],
   "source": [
    "dotnet sln XploringAvalonia.sln add src/MinimalAvaloniaAppFsharp/MinimalAvaloniaAppFsharp.fsproj\n"
   ]
  },
  {
   "cell_type": "markdown",
   "metadata": {},
   "source": [
    "Now there are two projects, one in C# and one in F#.\n",
    " \n",
    "One can add the Avalonia NuGet packages to each project. "
   ]
  },
  {
   "cell_type": "code",
   "execution_count": 1,
   "metadata": {
    "dotnet_interactive": {
     "language": "pwsh"
    },
    "polyglot_notebook": {
     "kernelName": "pwsh"
    }
   },
   "outputs": [
    {
     "name": "stdout",
     "output_type": "stream",
     "text": [
      "  Determining projects to restore...\n",
      "  Writing /tmp/tmptNSnRp.tmp\n",
      "info : X.509 certificate chain validation will use the fallback certificate bundle at '/usr/share/dotnet/sdk/8.0.204/trustedroots/codesignctl.pem'.\n",
      "info : X.509 certificate chain validation will use the fallback certificate bundle at '/usr/share/dotnet/sdk/8.0.204/trustedroots/timestampctl.pem'.\n",
      "info : Adding PackageReference for package 'Avalonia' into project './src/CsharpMinimalAvaloniaAppWithAXAML/CsharpMinimalAvaloniaAppWithAXAML.csproj'.\n",
      "info :   GET https://api.nuget.org/v3/registration5-gz-semver2/avalonia/index.json\n",
      "info :   OK https://api.nuget.org/v3/registration5-gz-semver2/avalonia/index.json 401ms\n",
      "info : Restoring packages for /home/linux/CODE/XploringAvalonia/src/CsharpMinimalAvaloniaAppWithAXAML/CsharpMinimalAvaloniaAppWithAXAML.csproj...\n",
      "info :   CACHE https://api.nuget.org/v3/vulnerabilities/index.json\n",
      "info :   CACHE https://api.nuget.org/v3-vulnerabilities/2024.04.13.06.53.29/vulnerability.base.json\n",
      "info :   CACHE https://api.nuget.org/v3-vulnerabilities/2024.04.13.06.53.29/2024.04.13.06.53.29/vulnerability.update.json\n",
      "info : Package 'Avalonia' is compatible with all the specified frameworks in project './src/CsharpMinimalAvaloniaAppWithAXAML/CsharpMinimalAvaloniaAppWithAXAML.csproj'.\n",
      "info : PackageReference for package 'Avalonia' version '11.0.10' updated in file '/home/linux/CODE/XploringAvalonia/src/CsharpMinimalAvaloniaAppWithAXAML/CsharpMinimalAvaloniaAppWithAXAML.csproj'.\n",
      "info : Assets file has not changed. Skipping assets file writing. Path: /home/linux/CODE/XploringAvalonia/src/CsharpMinimalAvaloniaAppWithAXAML/obj/project.assets.json\n",
      "log  : Restored /home/linux/CODE/XploringAvalonia/src/CsharpMinimalAvaloniaAppWithAXAML/CsharpMinimalAvaloniaAppWithAXAML.csproj (in 110 ms).\n",
      "  Determining projects to restore...\n",
      "  Writing /tmp/tmpmm2vGa.tmp\n",
      "info : X.509 certificate chain validation will use the fallback certificate bundle at '/usr/share/dotnet/sdk/8.0.204/trustedroots/codesignctl.pem'.\n",
      "info : X.509 certificate chain validation will use the fallback certificate bundle at '/usr/share/dotnet/sdk/8.0.204/trustedroots/timestampctl.pem'.\n",
      "info : Adding PackageReference for package 'Avalonia.Themes.Simple' into project './src/CsharpMinimalAvaloniaAppWithAXAML/CsharpMinimalAvaloniaAppWithAXAML.csproj'.\n",
      "info :   GET https://api.nuget.org/v3/registration5-gz-semver2/avalonia.themes.simple/index.json\n",
      "info :   OK https://api.nuget.org/v3/registration5-gz-semver2/avalonia.themes.simple/index.json 341ms\n",
      "info : Restoring packages for /home/linux/CODE/XploringAvalonia/src/CsharpMinimalAvaloniaAppWithAXAML/CsharpMinimalAvaloniaAppWithAXAML.csproj...\n",
      "info :   CACHE https://api.nuget.org/v3/vulnerabilities/index.json\n",
      "info :   CACHE https://api.nuget.org/v3-vulnerabilities/2024.04.13.06.53.29/vulnerability.base.json\n",
      "info :   CACHE https://api.nuget.org/v3-vulnerabilities/2024.04.13.06.53.29/2024.04.13.06.53.29/vulnerability.update.json\n",
      "info : Package 'Avalonia.Themes.Simple' is compatible with all the specified frameworks in project './src/CsharpMinimalAvaloniaAppWithAXAML/CsharpMinimalAvaloniaAppWithAXAML.csproj'.\n",
      "info : PackageReference for package 'Avalonia.Themes.Simple' version '11.0.10' updated in file '/home/linux/CODE/XploringAvalonia/src/CsharpMinimalAvaloniaAppWithAXAML/CsharpMinimalAvaloniaAppWithAXAML.csproj'.\n",
      "info : Assets file has not changed. Skipping assets file writing. Path: /home/linux/CODE/XploringAvalonia/src/CsharpMinimalAvaloniaAppWithAXAML/obj/project.assets.json\n",
      "log  : Restored /home/linux/CODE/XploringAvalonia/src/CsharpMinimalAvaloniaAppWithAXAML/CsharpMinimalAvaloniaAppWithAXAML.csproj (in 129 ms).\n",
      "  Determining projects to restore...\n",
      "  Writing /tmp/tmpUXAtUo.tmp\n",
      "info : X.509 certificate chain validation will use the fallback certificate bundle at '/usr/share/dotnet/sdk/8.0.204/trustedroots/codesignctl.pem'.\n",
      "info : X.509 certificate chain validation will use the fallback certificate bundle at '/usr/share/dotnet/sdk/8.0.204/trustedroots/timestampctl.pem'.\n",
      "info : Adding PackageReference for package 'Avalonia.Desktop' into project './src/CsharpMinimalAvaloniaAppWithAXAML/CsharpMinimalAvaloniaAppWithAXAML.csproj'.\n",
      "info :   GET https://api.nuget.org/v3/registration5-gz-semver2/avalonia.desktop/index.json\n",
      "info :   OK https://api.nuget.org/v3/registration5-gz-semver2/avalonia.desktop/index.json 387ms\n",
      "info : Restoring packages for /home/linux/CODE/XploringAvalonia/src/CsharpMinimalAvaloniaAppWithAXAML/CsharpMinimalAvaloniaAppWithAXAML.csproj...\n",
      "info :   CACHE https://api.nuget.org/v3/vulnerabilities/index.json\n",
      "info :   CACHE https://api.nuget.org/v3-vulnerabilities/2024.04.13.06.53.29/vulnerability.base.json\n",
      "info :   CACHE https://api.nuget.org/v3-vulnerabilities/2024.04.13.06.53.29/2024.04.13.06.53.29/vulnerability.update.json\n",
      "info : Package 'Avalonia.Desktop' is compatible with all the specified frameworks in project './src/CsharpMinimalAvaloniaAppWithAXAML/CsharpMinimalAvaloniaAppWithAXAML.csproj'.\n",
      "info : PackageReference for package 'Avalonia.Desktop' version '11.0.10' added to file '/home/linux/CODE/XploringAvalonia/src/CsharpMinimalAvaloniaAppWithAXAML/CsharpMinimalAvaloniaAppWithAXAML.csproj'.\n",
      "info : Generating MSBuild file /home/linux/CODE/XploringAvalonia/src/CsharpMinimalAvaloniaAppWithAXAML/obj/CsharpMinimalAvaloniaAppWithAXAML.csproj.nuget.g.props.\n",
      "info : Generating MSBuild file /home/linux/CODE/XploringAvalonia/src/CsharpMinimalAvaloniaAppWithAXAML/obj/CsharpMinimalAvaloniaAppWithAXAML.csproj.nuget.g.targets.\n",
      "info : Writing assets file to disk. Path: /home/linux/CODE/XploringAvalonia/src/CsharpMinimalAvaloniaAppWithAXAML/obj/project.assets.json\n",
      "log  : Restored /home/linux/CODE/XploringAvalonia/src/CsharpMinimalAvaloniaAppWithAXAML/CsharpMinimalAvaloniaAppWithAXAML.csproj (in 141 ms).\n"
     ]
    }
   ],
   "source": [
    "dotnet add ./src/CsharpMinimalAvaloniaAppWithAXAML/CsharpMinimalAvaloniaAppWithAXAML.csproj package Avalonia\n",
    "dotnet add ./src/CsharpMinimalAvaloniaAppWithAXAML/CsharpMinimalAvaloniaAppWithAXAML.csproj package Avalonia.Themes.Simple\n",
    "dotnet add ./src/CsharpMinimalAvaloniaAppWithAXAML/CsharpMinimalAvaloniaAppWithAXAML.csproj package Avalonia.Desktop\n"
   ]
  }
 ],
 "metadata": {
  "kernelspec": {
   "display_name": ".NET (C#)",
   "language": "C#",
   "name": ".net-csharp"
  },
  "language_info": {
   "name": "polyglot-notebook"
  },
  "polyglot_notebook": {
   "kernelInfo": {
    "defaultKernelName": "csharp",
    "items": [
     {
      "aliases": [],
      "name": "csharp"
     },
     {
      "aliases": [],
      "languageName": "fsharp",
      "name": "fsharp"
     }
    ]
   }
  }
 },
 "nbformat": 4,
 "nbformat_minor": 2
}
